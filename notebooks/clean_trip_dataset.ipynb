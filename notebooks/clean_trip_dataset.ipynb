{
 "cells": [
  {
   "cell_type": "code",
   "execution_count": 1,
   "metadata": {},
   "outputs": [],
   "source": [
    "import pandas as pd \n",
    "import glob, os\n",
    "import seaborn as sns\n",
    "import matplotlib.pyplot as plt\n",
    "%matplotlib inline"
   ]
  },
  {
   "cell_type": "code",
   "execution_count": 2,
   "metadata": {},
   "outputs": [],
   "source": [
    "dir_path = '../data/'"
   ]
  },
  {
   "cell_type": "markdown",
   "metadata": {},
   "source": [
    "# Load the files"
   ]
  },
  {
   "cell_type": "code",
   "execution_count": 3,
   "metadata": {},
   "outputs": [],
   "source": [
    "file_lst = []\n",
    "for file in glob.glob(f\"{dir_path}*yellow*.csv\"):\n",
    "    file_lst.append(file)"
   ]
  },
  {
   "cell_type": "code",
   "execution_count": 4,
   "metadata": {},
   "outputs": [
    {
     "data": {
      "text/plain": [
       "['../data/yellow_tripdata_2020-07.csv',\n",
       " '../data/yellow_tripdata_2020-04.csv',\n",
       " '../data/yellow_tripdata_2020-09.csv',\n",
       " '../data/yellow_tripdata_2020-03.csv',\n",
       " '../data/yellow_tripdata_2020-08.csv',\n",
       " '../data/yellow_tripdata_2020-05.csv',\n",
       " '../data/yellow_tripdata_2020-06.csv']"
      ]
     },
     "execution_count": 4,
     "metadata": {},
     "output_type": "execute_result"
    }
   ],
   "source": [
    "file_lst"
   ]
  },
  {
   "cell_type": "markdown",
   "metadata": {},
   "source": [
    "# Load the data into a single DataFrame"
   ]
  },
  {
   "cell_type": "code",
   "execution_count": 5,
   "metadata": {},
   "outputs": [],
   "source": [
    "df_lst = []\n",
    "for file in file_lst:\n",
    "    df_lst.append(pd.read_csv(file, low_memory=False, parse_dates=['tpep_pickup_datetime', 'tpep_dropoff_datetime']))\n",
    "    \n",
    "data = pd.concat(df_lst)"
   ]
  },
  {
   "cell_type": "markdown",
   "metadata": {},
   "source": [
    "# Data Set Overview and Sanity Check"
   ]
  },
  {
   "cell_type": "code",
   "execution_count": 6,
   "metadata": {},
   "outputs": [
    {
     "name": "stdout",
     "output_type": "stream",
     "text": [
      "<class 'pandas.core.frame.DataFrame'>\n",
      "Int64Index: 7292124 entries, 0 to 549759\n",
      "Data columns (total 18 columns):\n",
      " #   Column                 Dtype         \n",
      "---  ------                 -----         \n",
      " 0   VendorID               float64       \n",
      " 1   tpep_pickup_datetime   datetime64[ns]\n",
      " 2   tpep_dropoff_datetime  datetime64[ns]\n",
      " 3   passenger_count        float64       \n",
      " 4   trip_distance          float64       \n",
      " 5   RatecodeID             float64       \n",
      " 6   store_and_fwd_flag     object        \n",
      " 7   PULocationID           int64         \n",
      " 8   DOLocationID           int64         \n",
      " 9   payment_type           float64       \n",
      " 10  fare_amount            float64       \n",
      " 11  extra                  float64       \n",
      " 12  mta_tax                float64       \n",
      " 13  tip_amount             float64       \n",
      " 14  tolls_amount           float64       \n",
      " 15  improvement_surcharge  float64       \n",
      " 16  total_amount           float64       \n",
      " 17  congestion_surcharge   float64       \n",
      "dtypes: datetime64[ns](2), float64(13), int64(2), object(1)\n",
      "memory usage: 1.0+ GB\n"
     ]
    }
   ],
   "source": [
    "data.info()"
   ]
  },
  {
   "cell_type": "code",
   "execution_count": 7,
   "metadata": {},
   "outputs": [
    {
     "data": {
      "text/html": [
       "<div>\n",
       "<style scoped>\n",
       "    .dataframe tbody tr th:only-of-type {\n",
       "        vertical-align: middle;\n",
       "    }\n",
       "\n",
       "    .dataframe tbody tr th {\n",
       "        vertical-align: top;\n",
       "    }\n",
       "\n",
       "    .dataframe thead th {\n",
       "        text-align: right;\n",
       "    }\n",
       "</style>\n",
       "<table border=\"1\" class=\"dataframe\">\n",
       "  <thead>\n",
       "    <tr style=\"text-align: right;\">\n",
       "      <th></th>\n",
       "      <th>count</th>\n",
       "      <th>mean</th>\n",
       "      <th>std</th>\n",
       "      <th>min</th>\n",
       "      <th>50%</th>\n",
       "      <th>90%</th>\n",
       "      <th>95%</th>\n",
       "      <th>99%</th>\n",
       "      <th>max</th>\n",
       "    </tr>\n",
       "  </thead>\n",
       "  <tbody>\n",
       "    <tr>\n",
       "      <th>VendorID</th>\n",
       "      <td>6901249.0</td>\n",
       "      <td>1.651197</td>\n",
       "      <td>0.476592</td>\n",
       "      <td>1.00</td>\n",
       "      <td>2.00</td>\n",
       "      <td>2.00</td>\n",
       "      <td>2.00</td>\n",
       "      <td>2.00</td>\n",
       "      <td>2.00</td>\n",
       "    </tr>\n",
       "    <tr>\n",
       "      <th>passenger_count</th>\n",
       "      <td>6901249.0</td>\n",
       "      <td>1.421281</td>\n",
       "      <td>1.076004</td>\n",
       "      <td>0.00</td>\n",
       "      <td>1.00</td>\n",
       "      <td>2.00</td>\n",
       "      <td>4.00</td>\n",
       "      <td>6.00</td>\n",
       "      <td>9.00</td>\n",
       "    </tr>\n",
       "    <tr>\n",
       "      <th>trip_distance</th>\n",
       "      <td>7292124.0</td>\n",
       "      <td>3.989182</td>\n",
       "      <td>365.520422</td>\n",
       "      <td>0.00</td>\n",
       "      <td>1.71</td>\n",
       "      <td>6.90</td>\n",
       "      <td>10.80</td>\n",
       "      <td>19.20</td>\n",
       "      <td>297004.51</td>\n",
       "    </tr>\n",
       "    <tr>\n",
       "      <th>RatecodeID</th>\n",
       "      <td>6901249.0</td>\n",
       "      <td>1.044269</td>\n",
       "      <td>0.805033</td>\n",
       "      <td>1.00</td>\n",
       "      <td>1.00</td>\n",
       "      <td>1.00</td>\n",
       "      <td>1.00</td>\n",
       "      <td>2.00</td>\n",
       "      <td>99.00</td>\n",
       "    </tr>\n",
       "    <tr>\n",
       "      <th>PULocationID</th>\n",
       "      <td>7292124.0</td>\n",
       "      <td>161.567295</td>\n",
       "      <td>67.992281</td>\n",
       "      <td>1.00</td>\n",
       "      <td>161.00</td>\n",
       "      <td>239.00</td>\n",
       "      <td>262.00</td>\n",
       "      <td>263.00</td>\n",
       "      <td>265.00</td>\n",
       "    </tr>\n",
       "    <tr>\n",
       "      <th>DOLocationID</th>\n",
       "      <td>7292124.0</td>\n",
       "      <td>158.181106</td>\n",
       "      <td>72.201732</td>\n",
       "      <td>1.00</td>\n",
       "      <td>161.00</td>\n",
       "      <td>239.00</td>\n",
       "      <td>261.00</td>\n",
       "      <td>263.00</td>\n",
       "      <td>265.00</td>\n",
       "    </tr>\n",
       "    <tr>\n",
       "      <th>payment_type</th>\n",
       "      <td>6901249.0</td>\n",
       "      <td>1.311160</td>\n",
       "      <td>0.503481</td>\n",
       "      <td>1.00</td>\n",
       "      <td>1.00</td>\n",
       "      <td>2.00</td>\n",
       "      <td>2.00</td>\n",
       "      <td>3.00</td>\n",
       "      <td>5.00</td>\n",
       "    </tr>\n",
       "    <tr>\n",
       "      <th>fare_amount</th>\n",
       "      <td>7292124.0</td>\n",
       "      <td>12.924575</td>\n",
       "      <td>303.348997</td>\n",
       "      <td>-1259.00</td>\n",
       "      <td>9.00</td>\n",
       "      <td>25.50</td>\n",
       "      <td>36.59</td>\n",
       "      <td>56.50</td>\n",
       "      <td>671100.14</td>\n",
       "    </tr>\n",
       "    <tr>\n",
       "      <th>extra</th>\n",
       "      <td>7292124.0</td>\n",
       "      <td>1.088222</td>\n",
       "      <td>185.162254</td>\n",
       "      <td>-26.50</td>\n",
       "      <td>0.50</td>\n",
       "      <td>3.00</td>\n",
       "      <td>3.50</td>\n",
       "      <td>3.50</td>\n",
       "      <td>500000.80</td>\n",
       "    </tr>\n",
       "    <tr>\n",
       "      <th>mta_tax</th>\n",
       "      <td>7292124.0</td>\n",
       "      <td>0.560576</td>\n",
       "      <td>185.158233</td>\n",
       "      <td>-0.50</td>\n",
       "      <td>0.50</td>\n",
       "      <td>0.50</td>\n",
       "      <td>0.50</td>\n",
       "      <td>0.50</td>\n",
       "      <td>500000.50</td>\n",
       "    </tr>\n",
       "    <tr>\n",
       "      <th>tip_amount</th>\n",
       "      <td>7292124.0</td>\n",
       "      <td>1.937231</td>\n",
       "      <td>2.581670</td>\n",
       "      <td>-493.22</td>\n",
       "      <td>1.76</td>\n",
       "      <td>4.05</td>\n",
       "      <td>5.45</td>\n",
       "      <td>11.34</td>\n",
       "      <td>1001.00</td>\n",
       "    </tr>\n",
       "    <tr>\n",
       "      <th>tolls_amount</th>\n",
       "      <td>7292124.0</td>\n",
       "      <td>0.300338</td>\n",
       "      <td>1.557307</td>\n",
       "      <td>-40.00</td>\n",
       "      <td>0.00</td>\n",
       "      <td>0.00</td>\n",
       "      <td>0.00</td>\n",
       "      <td>6.12</td>\n",
       "      <td>601.02</td>\n",
       "    </tr>\n",
       "    <tr>\n",
       "      <th>improvement_surcharge</th>\n",
       "      <td>7292124.0</td>\n",
       "      <td>0.297227</td>\n",
       "      <td>0.039814</td>\n",
       "      <td>-0.30</td>\n",
       "      <td>0.30</td>\n",
       "      <td>0.30</td>\n",
       "      <td>0.30</td>\n",
       "      <td>0.30</td>\n",
       "      <td>0.30</td>\n",
       "    </tr>\n",
       "    <tr>\n",
       "      <th>total_amount</th>\n",
       "      <td>7292124.0</td>\n",
       "      <td>18.511396</td>\n",
       "      <td>478.754465</td>\n",
       "      <td>-1260.30</td>\n",
       "      <td>14.16</td>\n",
       "      <td>32.16</td>\n",
       "      <td>45.50</td>\n",
       "      <td>73.67</td>\n",
       "      <td>1000003.80</td>\n",
       "    </tr>\n",
       "    <tr>\n",
       "      <th>congestion_surcharge</th>\n",
       "      <td>7292124.0</td>\n",
       "      <td>2.120894</td>\n",
       "      <td>0.919190</td>\n",
       "      <td>-2.50</td>\n",
       "      <td>2.50</td>\n",
       "      <td>2.50</td>\n",
       "      <td>2.50</td>\n",
       "      <td>2.50</td>\n",
       "      <td>2.50</td>\n",
       "    </tr>\n",
       "  </tbody>\n",
       "</table>\n",
       "</div>"
      ],
      "text/plain": [
       "                           count        mean         std      min     50%  \\\n",
       "VendorID               6901249.0    1.651197    0.476592     1.00    2.00   \n",
       "passenger_count        6901249.0    1.421281    1.076004     0.00    1.00   \n",
       "trip_distance          7292124.0    3.989182  365.520422     0.00    1.71   \n",
       "RatecodeID             6901249.0    1.044269    0.805033     1.00    1.00   \n",
       "PULocationID           7292124.0  161.567295   67.992281     1.00  161.00   \n",
       "DOLocationID           7292124.0  158.181106   72.201732     1.00  161.00   \n",
       "payment_type           6901249.0    1.311160    0.503481     1.00    1.00   \n",
       "fare_amount            7292124.0   12.924575  303.348997 -1259.00    9.00   \n",
       "extra                  7292124.0    1.088222  185.162254   -26.50    0.50   \n",
       "mta_tax                7292124.0    0.560576  185.158233    -0.50    0.50   \n",
       "tip_amount             7292124.0    1.937231    2.581670  -493.22    1.76   \n",
       "tolls_amount           7292124.0    0.300338    1.557307   -40.00    0.00   \n",
       "improvement_surcharge  7292124.0    0.297227    0.039814    -0.30    0.30   \n",
       "total_amount           7292124.0   18.511396  478.754465 -1260.30   14.16   \n",
       "congestion_surcharge   7292124.0    2.120894    0.919190    -2.50    2.50   \n",
       "\n",
       "                          90%     95%     99%         max  \n",
       "VendorID                 2.00    2.00    2.00        2.00  \n",
       "passenger_count          2.00    4.00    6.00        9.00  \n",
       "trip_distance            6.90   10.80   19.20   297004.51  \n",
       "RatecodeID               1.00    1.00    2.00       99.00  \n",
       "PULocationID           239.00  262.00  263.00      265.00  \n",
       "DOLocationID           239.00  261.00  263.00      265.00  \n",
       "payment_type             2.00    2.00    3.00        5.00  \n",
       "fare_amount             25.50   36.59   56.50   671100.14  \n",
       "extra                    3.00    3.50    3.50   500000.80  \n",
       "mta_tax                  0.50    0.50    0.50   500000.50  \n",
       "tip_amount               4.05    5.45   11.34     1001.00  \n",
       "tolls_amount             0.00    0.00    6.12      601.02  \n",
       "improvement_surcharge    0.30    0.30    0.30        0.30  \n",
       "total_amount            32.16   45.50   73.67  1000003.80  \n",
       "congestion_surcharge     2.50    2.50    2.50        2.50  "
      ]
     },
     "execution_count": 7,
     "metadata": {},
     "output_type": "execute_result"
    }
   ],
   "source": [
    "data.describe(percentiles=[.9,.95,.99]).T"
   ]
  },
  {
   "cell_type": "markdown",
   "metadata": {},
   "source": [
    "# Flag #1"
   ]
  },
  {
   "cell_type": "markdown",
   "metadata": {},
   "source": [
    "Seems like we are dealing with some outliers, judging by the distributions: \n",
    "* total_amount - has a quite unrealistic peak value of `1_000_003.80` and we can see that the 99% of the trips cost less than `73.67` USD\n",
    "* trip distance - has a peak value of `297_004` miles, which seams like an error to me, given that 99% of trips are below 20 miles. \n",
    "\n",
    "The similar patern can be observed for: \n",
    "* tolls_amount \n",
    "* extra (part of total amount)\n",
    "* mta_tax (part of total amount)\n",
    "* fare amount (part of total amount)"
   ]
  },
  {
   "cell_type": "code",
   "execution_count": 8,
   "metadata": {},
   "outputs": [
    {
     "data": {
      "image/png": "[encoded data removed]",
      "text/plain": [
       "<Figure size 360x360 with 1 Axes>"
      ]
     },
     "metadata": {
      "needs_background": "light"
     },
     "output_type": "display_data"
    }
   ],
   "source": [
    "sns.displot(data, x='fare_amount', kind='hist', \n",
    "             bins=int(180/5), color = 'red',)\n",
    "plt.yscale('log')"
   ]
  },
  {
   "cell_type": "code",
   "execution_count": 9,
   "metadata": {},
   "outputs": [],
   "source": [
    "filtered_data = data[data['fare_amount'] < 10000]"
   ]
  },
  {
   "cell_type": "code",
   "execution_count": 10,
   "metadata": {},
   "outputs": [
    {
     "data": {
      "image/png": "[encoded data removed]",
      "text/plain": [
       "<Figure size 360x360 with 1 Axes>"
      ]
     },
     "metadata": {
      "needs_background": "light"
     },
     "output_type": "display_data"
    }
   ],
   "source": [
    "sns.displot(filtered_data, x='fare_amount', kind='hist', \n",
    "             bins=int(180/5), color = 'red',)\n",
    "plt.yscale('log')"
   ]
  },
  {
   "cell_type": "code",
   "execution_count": 11,
   "metadata": {},
   "outputs": [],
   "source": [
    "filtered_data = data[data['fare_amount'] < 1000]"
   ]
  },
  {
   "cell_type": "code",
   "execution_count": 12,
   "metadata": {},
   "outputs": [
    {
     "data": {
      "image/png": "[encoded data removed]",
      "text/plain": [
       "<Figure size 360x360 with 1 Axes>"
      ]
     },
     "metadata": {
      "needs_background": "light"
     },
     "output_type": "display_data"
    }
   ],
   "source": [
    "sns.displot(filtered_data, x='fare_amount', kind='hist', \n",
    "             bins=int(180/5), color = 'red',)\n",
    "plt.yscale('log')"
   ]
  },
  {
   "cell_type": "markdown",
   "metadata": {},
   "source": [
    "# Flag #2"
   ]
  },
  {
   "cell_type": "markdown",
   "metadata": {},
   "source": [
    "There are also many trips with `trip_distance=0`. I guess those were canceled or there were some errors involved."
   ]
  },
  {
   "cell_type": "code",
   "execution_count": 13,
   "metadata": {},
   "outputs": [
    {
     "data": {
      "text/plain": [
       "140916"
      ]
     },
     "execution_count": 13,
     "metadata": {},
     "output_type": "execute_result"
    }
   ],
   "source": [
    "data[data['trip_distance'] == 0].shape[0] "
   ]
  },
  {
   "cell_type": "code",
   "execution_count": 14,
   "metadata": {},
   "outputs": [],
   "source": [
    "# data[data['trip_distance'] == 0]['fare_amount'].describe()"
   ]
  },
  {
   "cell_type": "code",
   "execution_count": 15,
   "metadata": {},
   "outputs": [
    {
     "data": {
      "image/png": "[encoded data removed]",
      "text/plain": [
       "<Figure size 360x360 with 1 Axes>"
      ]
     },
     "metadata": {
      "needs_background": "light"
     },
     "output_type": "display_data"
    }
   ],
   "source": [
    "sns.displot(data[data['trip_distance'] == 0], x='fare_amount', kind='hist', \n",
    "             bins=int(180/5), color = 'blue')\n",
    "plt.yscale('log')\n",
    "plt.xscale('log')\n"
   ]
  },
  {
   "cell_type": "markdown",
   "metadata": {},
   "source": [
    "There is one crazy outlier here, I will drop it for the sake of a better plot."
   ]
  },
  {
   "cell_type": "code",
   "execution_count": 16,
   "metadata": {},
   "outputs": [],
   "source": [
    "filtered_data = data[(data['trip_distance'] == 0) & (data['fare_amount'] < 10000)]"
   ]
  },
  {
   "cell_type": "code",
   "execution_count": 17,
   "metadata": {},
   "outputs": [
    {
     "data": {
      "image/png": "[encoded data removed]",
      "text/plain": [
       "<Figure size 360x360 with 1 Axes>"
      ]
     },
     "metadata": {
      "needs_background": "light"
     },
     "output_type": "display_data"
    },
    {
     "data": {
      "image/png": "[encoded data removed]",
      "text/plain": [
       "<Figure size 360x360 with 1 Axes>"
      ]
     },
     "metadata": {
      "needs_background": "light"
     },
     "output_type": "display_data"
    }
   ],
   "source": [
    "sns.displot(filtered_data, x='fare_amount', kind='hist', \n",
    "             bins=int(180/5), color = 'blue')\n",
    "plt.yscale('log')\n",
    "plt.title('Distance = 0 Fare amount distribution')\n",
    "sns.displot(data[data['fare_amount'] < 10000], x='fare_amount', kind='hist', \n",
    "             bins=int(180/5), color = 'red',)\n",
    "plt.title('Fare amount distribution regardless of distance')\n",
    "plt.yscale('log')"
   ]
  },
  {
   "cell_type": "markdown",
   "metadata": {},
   "source": [
    "There fare amount distribution doesn't change dramaticaly (there is no pattern like a flat cancelation fee), which leads me to beleive that trips with `distance=0` are also outliers. "
   ]
  },
  {
   "cell_type": "markdown",
   "metadata": {},
   "source": [
    "# Timestamp Sanity check"
   ]
  },
  {
   "cell_type": "markdown",
   "metadata": {},
   "source": [
    "# Flag #3"
   ]
  },
  {
   "cell_type": "code",
   "execution_count": 18,
   "metadata": {},
   "outputs": [],
   "source": [
    "data['year'] = data.tpep_pickup_datetime.dt.year"
   ]
  },
  {
   "cell_type": "code",
   "execution_count": 19,
   "metadata": {},
   "outputs": [
    {
     "data": {
      "text/plain": [
       "2020    7292088\n",
       "2009         26\n",
       "2008         10\n",
       "Name: year, dtype: int64"
      ]
     },
     "execution_count": 19,
     "metadata": {},
     "output_type": "execute_result"
    }
   ],
   "source": [
    "data['year'].value_counts()"
   ]
  },
  {
   "cell_type": "markdown",
   "metadata": {},
   "source": [
    "### Apparently we have some records from years other than 2020"
   ]
  },
  {
   "cell_type": "markdown",
   "metadata": {},
   "source": [
    "doesn't hurt to also check if there are records from unexpected months"
   ]
  },
  {
   "cell_type": "code",
   "execution_count": 20,
   "metadata": {},
   "outputs": [],
   "source": [
    "data['month'] = data.tpep_pickup_datetime.dt.month"
   ]
  },
  {
   "cell_type": "code",
   "execution_count": 21,
   "metadata": {},
   "outputs": [
    {
     "data": {
      "text/plain": [
       "3     3006908\n",
       "9     1340882\n",
       "8     1007282\n",
       "7      800422\n",
       "6      549777\n",
       "5      348357\n",
       "4      237877\n",
       "2         392\n",
       "10        119\n",
       "1          95\n",
       "12         10\n",
       "11          3\n",
       "Name: month, dtype: int64"
      ]
     },
     "execution_count": 21,
     "metadata": {},
     "output_type": "execute_result"
    }
   ],
   "source": [
    "data['month'].value_counts()"
   ]
  },
  {
   "cell_type": "markdown",
   "metadata": {},
   "source": [
    "### Apparently we have some records for some unexpected months (we expect months 3-9)"
   ]
  },
  {
   "cell_type": "markdown",
   "metadata": {},
   "source": [
    "# Cleanup"
   ]
  },
  {
   "cell_type": "markdown",
   "metadata": {},
   "source": [
    "### Time related cleaning"
   ]
  },
  {
   "cell_type": "markdown",
   "metadata": {},
   "source": [
    "Keeping data for months [march, ... ,september]"
   ]
  },
  {
   "cell_type": "code",
   "execution_count": 22,
   "metadata": {},
   "outputs": [
    {
     "data": {
      "text/plain": [
       "7292124"
      ]
     },
     "execution_count": 22,
     "metadata": {},
     "output_type": "execute_result"
    }
   ],
   "source": [
    "data.shape[0]"
   ]
  },
  {
   "cell_type": "code",
   "execution_count": 23,
   "metadata": {},
   "outputs": [
    {
     "data": {
      "text/plain": [
       "7291505"
      ]
     },
     "execution_count": 23,
     "metadata": {},
     "output_type": "execute_result"
    }
   ],
   "source": [
    "data = data[data['month'].isin(range(3,10))]\n",
    "data.shape[0]"
   ]
  },
  {
   "cell_type": "code",
   "execution_count": 24,
   "metadata": {},
   "outputs": [
    {
     "data": {
      "text/plain": [
       "3    3006908\n",
       "9    1340882\n",
       "8    1007282\n",
       "7     800422\n",
       "6     549777\n",
       "5     348357\n",
       "4     237877\n",
       "Name: month, dtype: int64"
      ]
     },
     "execution_count": 24,
     "metadata": {},
     "output_type": "execute_result"
    }
   ],
   "source": [
    "data.month.value_counts()"
   ]
  },
  {
   "cell_type": "code",
   "execution_count": 25,
   "metadata": {},
   "outputs": [
    {
     "data": {
      "text/plain": [
       "2020    7291505\n",
       "Name: year, dtype: int64"
      ]
     },
     "execution_count": 25,
     "metadata": {},
     "output_type": "execute_result"
    }
   ],
   "source": [
    "data.year.value_counts()"
   ]
  },
  {
   "cell_type": "markdown",
   "metadata": {},
   "source": [
    "This also filtered out events that were not in 2020"
   ]
  },
  {
   "cell_type": "markdown",
   "metadata": {},
   "source": [
    "### 2) Trip distance cleaning"
   ]
  },
  {
   "cell_type": "code",
   "execution_count": 26,
   "metadata": {},
   "outputs": [
    {
     "data": {
      "text/plain": [
       "7150393"
      ]
     },
     "execution_count": 26,
     "metadata": {},
     "output_type": "execute_result"
    }
   ],
   "source": [
    "data = data[(data['trip_distance'] > 0) & ((data['trip_distance'] < 100))]\n",
    "data.shape[0]"
   ]
  },
  {
   "cell_type": "markdown",
   "metadata": {},
   "source": [
    "I kept the trips below 100 eventhough the value coresponding to the 99th percentile is 20 miles. Just because sometimes the destination can be outside the city, or the ride can contain multiple stops, etc. "
   ]
  },
  {
   "cell_type": "markdown",
   "metadata": {},
   "source": [
    "# 3) Fare amount cleaning"
   ]
  },
  {
   "cell_type": "code",
   "execution_count": 27,
   "metadata": {},
   "outputs": [
    {
     "data": {
      "text/plain": [
       "7150390"
      ]
     },
     "execution_count": 27,
     "metadata": {},
     "output_type": "execute_result"
    }
   ],
   "source": [
    "data = data[data['fare_amount'] < 1000]\n",
    "data.shape[0]"
   ]
  },
  {
   "cell_type": "markdown",
   "metadata": {},
   "source": [
    "# This looks a bit more realistic now"
   ]
  },
  {
   "cell_type": "code",
   "execution_count": 28,
   "metadata": {},
   "outputs": [
    {
     "data": {
      "text/html": [
       "<div>\n",
       "<style scoped>\n",
       "    .dataframe tbody tr th:only-of-type {\n",
       "        vertical-align: middle;\n",
       "    }\n",
       "\n",
       "    .dataframe tbody tr th {\n",
       "        vertical-align: top;\n",
       "    }\n",
       "\n",
       "    .dataframe thead th {\n",
       "        text-align: right;\n",
       "    }\n",
       "</style>\n",
       "<table border=\"1\" class=\"dataframe\">\n",
       "  <thead>\n",
       "    <tr style=\"text-align: right;\">\n",
       "      <th></th>\n",
       "      <th>count</th>\n",
       "      <th>mean</th>\n",
       "      <th>std</th>\n",
       "      <th>min</th>\n",
       "      <th>50%</th>\n",
       "      <th>90%</th>\n",
       "      <th>95%</th>\n",
       "      <th>99%</th>\n",
       "      <th>max</th>\n",
       "    </tr>\n",
       "  </thead>\n",
       "  <tbody>\n",
       "    <tr>\n",
       "      <th>VendorID</th>\n",
       "      <td>6767218.0</td>\n",
       "      <td>1.658282</td>\n",
       "      <td>0.474285</td>\n",
       "      <td>1.00</td>\n",
       "      <td>2.00</td>\n",
       "      <td>2.00</td>\n",
       "      <td>2.00</td>\n",
       "      <td>2.00</td>\n",
       "      <td>2.00</td>\n",
       "    </tr>\n",
       "    <tr>\n",
       "      <th>passenger_count</th>\n",
       "      <td>6767218.0</td>\n",
       "      <td>1.426665</td>\n",
       "      <td>1.081235</td>\n",
       "      <td>0.00</td>\n",
       "      <td>1.00</td>\n",
       "      <td>2.00</td>\n",
       "      <td>4.00</td>\n",
       "      <td>6.00</td>\n",
       "      <td>9.00</td>\n",
       "    </tr>\n",
       "    <tr>\n",
       "      <th>trip_distance</th>\n",
       "      <td>7150390.0</td>\n",
       "      <td>3.062553</td>\n",
       "      <td>3.820108</td>\n",
       "      <td>0.01</td>\n",
       "      <td>1.77</td>\n",
       "      <td>7.00</td>\n",
       "      <td>10.90</td>\n",
       "      <td>19.23</td>\n",
       "      <td>99.87</td>\n",
       "    </tr>\n",
       "    <tr>\n",
       "      <th>RatecodeID</th>\n",
       "      <td>6767218.0</td>\n",
       "      <td>1.029296</td>\n",
       "      <td>0.475196</td>\n",
       "      <td>1.00</td>\n",
       "      <td>1.00</td>\n",
       "      <td>1.00</td>\n",
       "      <td>1.00</td>\n",
       "      <td>2.00</td>\n",
       "      <td>99.00</td>\n",
       "    </tr>\n",
       "    <tr>\n",
       "      <th>PULocationID</th>\n",
       "      <td>7150390.0</td>\n",
       "      <td>161.840127</td>\n",
       "      <td>67.835524</td>\n",
       "      <td>1.00</td>\n",
       "      <td>161.00</td>\n",
       "      <td>239.00</td>\n",
       "      <td>262.00</td>\n",
       "      <td>263.00</td>\n",
       "      <td>265.00</td>\n",
       "    </tr>\n",
       "    <tr>\n",
       "      <th>DOLocationID</th>\n",
       "      <td>7150390.0</td>\n",
       "      <td>158.316371</td>\n",
       "      <td>72.058863</td>\n",
       "      <td>1.00</td>\n",
       "      <td>161.00</td>\n",
       "      <td>239.00</td>\n",
       "      <td>261.00</td>\n",
       "      <td>263.00</td>\n",
       "      <td>265.00</td>\n",
       "    </tr>\n",
       "    <tr>\n",
       "      <th>payment_type</th>\n",
       "      <td>6767218.0</td>\n",
       "      <td>1.309553</td>\n",
       "      <td>0.499047</td>\n",
       "      <td>1.00</td>\n",
       "      <td>1.00</td>\n",
       "      <td>2.00</td>\n",
       "      <td>2.00</td>\n",
       "      <td>3.00</td>\n",
       "      <td>5.00</td>\n",
       "    </tr>\n",
       "    <tr>\n",
       "      <th>fare_amount</th>\n",
       "      <td>7150390.0</td>\n",
       "      <td>12.571660</td>\n",
       "      <td>11.537901</td>\n",
       "      <td>-1259.00</td>\n",
       "      <td>9.00</td>\n",
       "      <td>24.50</td>\n",
       "      <td>35.95</td>\n",
       "      <td>55.50</td>\n",
       "      <td>950.00</td>\n",
       "    </tr>\n",
       "    <tr>\n",
       "      <th>extra</th>\n",
       "      <td>7150390.0</td>\n",
       "      <td>1.032155</td>\n",
       "      <td>1.236775</td>\n",
       "      <td>-26.50</td>\n",
       "      <td>0.50</td>\n",
       "      <td>3.00</td>\n",
       "      <td>3.50</td>\n",
       "      <td>3.50</td>\n",
       "      <td>90.06</td>\n",
       "    </tr>\n",
       "    <tr>\n",
       "      <th>mta_tax</th>\n",
       "      <td>7150390.0</td>\n",
       "      <td>0.493441</td>\n",
       "      <td>0.072631</td>\n",
       "      <td>-0.50</td>\n",
       "      <td>0.50</td>\n",
       "      <td>0.50</td>\n",
       "      <td>0.50</td>\n",
       "      <td>0.50</td>\n",
       "      <td>30.80</td>\n",
       "    </tr>\n",
       "    <tr>\n",
       "      <th>tip_amount</th>\n",
       "      <td>7150390.0</td>\n",
       "      <td>1.951686</td>\n",
       "      <td>2.498724</td>\n",
       "      <td>-493.22</td>\n",
       "      <td>1.85</td>\n",
       "      <td>4.05</td>\n",
       "      <td>5.45</td>\n",
       "      <td>11.06</td>\n",
       "      <td>1001.00</td>\n",
       "    </tr>\n",
       "    <tr>\n",
       "      <th>tolls_amount</th>\n",
       "      <td>7150390.0</td>\n",
       "      <td>0.294309</td>\n",
       "      <td>1.536920</td>\n",
       "      <td>-40.00</td>\n",
       "      <td>0.00</td>\n",
       "      <td>0.00</td>\n",
       "      <td>0.00</td>\n",
       "      <td>6.12</td>\n",
       "      <td>601.02</td>\n",
       "    </tr>\n",
       "    <tr>\n",
       "      <th>improvement_surcharge</th>\n",
       "      <td>7150390.0</td>\n",
       "      <td>0.297613</td>\n",
       "      <td>0.037363</td>\n",
       "      <td>-0.30</td>\n",
       "      <td>0.30</td>\n",
       "      <td>0.30</td>\n",
       "      <td>0.30</td>\n",
       "      <td>0.30</td>\n",
       "      <td>0.30</td>\n",
       "    </tr>\n",
       "    <tr>\n",
       "      <th>total_amount</th>\n",
       "      <td>7150390.0</td>\n",
       "      <td>18.064400</td>\n",
       "      <td>13.405238</td>\n",
       "      <td>-1260.30</td>\n",
       "      <td>14.16</td>\n",
       "      <td>31.56</td>\n",
       "      <td>44.80</td>\n",
       "      <td>73.50</td>\n",
       "      <td>1050.30</td>\n",
       "    </tr>\n",
       "    <tr>\n",
       "      <th>congestion_surcharge</th>\n",
       "      <td>7150390.0</td>\n",
       "      <td>2.151757</td>\n",
       "      <td>0.887987</td>\n",
       "      <td>-2.50</td>\n",
       "      <td>2.50</td>\n",
       "      <td>2.50</td>\n",
       "      <td>2.50</td>\n",
       "      <td>2.50</td>\n",
       "      <td>2.50</td>\n",
       "    </tr>\n",
       "    <tr>\n",
       "      <th>year</th>\n",
       "      <td>7150390.0</td>\n",
       "      <td>2020.000000</td>\n",
       "      <td>0.000000</td>\n",
       "      <td>2020.00</td>\n",
       "      <td>2020.00</td>\n",
       "      <td>2020.00</td>\n",
       "      <td>2020.00</td>\n",
       "      <td>2020.00</td>\n",
       "      <td>2020.00</td>\n",
       "    </tr>\n",
       "    <tr>\n",
       "      <th>month</th>\n",
       "      <td>7150390.0</td>\n",
       "      <td>5.574923</td>\n",
       "      <td>2.461032</td>\n",
       "      <td>3.00</td>\n",
       "      <td>6.00</td>\n",
       "      <td>9.00</td>\n",
       "      <td>9.00</td>\n",
       "      <td>9.00</td>\n",
       "      <td>9.00</td>\n",
       "    </tr>\n",
       "  </tbody>\n",
       "</table>\n",
       "</div>"
      ],
      "text/plain": [
       "                           count         mean        std      min      50%  \\\n",
       "VendorID               6767218.0     1.658282   0.474285     1.00     2.00   \n",
       "passenger_count        6767218.0     1.426665   1.081235     0.00     1.00   \n",
       "trip_distance          7150390.0     3.062553   3.820108     0.01     1.77   \n",
       "RatecodeID             6767218.0     1.029296   0.475196     1.00     1.00   \n",
       "PULocationID           7150390.0   161.840127  67.835524     1.00   161.00   \n",
       "DOLocationID           7150390.0   158.316371  72.058863     1.00   161.00   \n",
       "payment_type           6767218.0     1.309553   0.499047     1.00     1.00   \n",
       "fare_amount            7150390.0    12.571660  11.537901 -1259.00     9.00   \n",
       "extra                  7150390.0     1.032155   1.236775   -26.50     0.50   \n",
       "mta_tax                7150390.0     0.493441   0.072631    -0.50     0.50   \n",
       "tip_amount             7150390.0     1.951686   2.498724  -493.22     1.85   \n",
       "tolls_amount           7150390.0     0.294309   1.536920   -40.00     0.00   \n",
       "improvement_surcharge  7150390.0     0.297613   0.037363    -0.30     0.30   \n",
       "total_amount           7150390.0    18.064400  13.405238 -1260.30    14.16   \n",
       "congestion_surcharge   7150390.0     2.151757   0.887987    -2.50     2.50   \n",
       "year                   7150390.0  2020.000000   0.000000  2020.00  2020.00   \n",
       "month                  7150390.0     5.574923   2.461032     3.00     6.00   \n",
       "\n",
       "                           90%      95%      99%      max  \n",
       "VendorID                  2.00     2.00     2.00     2.00  \n",
       "passenger_count           2.00     4.00     6.00     9.00  \n",
       "trip_distance             7.00    10.90    19.23    99.87  \n",
       "RatecodeID                1.00     1.00     2.00    99.00  \n",
       "PULocationID            239.00   262.00   263.00   265.00  \n",
       "DOLocationID            239.00   261.00   263.00   265.00  \n",
       "payment_type              2.00     2.00     3.00     5.00  \n",
       "fare_amount              24.50    35.95    55.50   950.00  \n",
       "extra                     3.00     3.50     3.50    90.06  \n",
       "mta_tax                   0.50     0.50     0.50    30.80  \n",
       "tip_amount                4.05     5.45    11.06  1001.00  \n",
       "tolls_amount              0.00     0.00     6.12   601.02  \n",
       "improvement_surcharge     0.30     0.30     0.30     0.30  \n",
       "total_amount             31.56    44.80    73.50  1050.30  \n",
       "congestion_surcharge      2.50     2.50     2.50     2.50  \n",
       "year                   2020.00  2020.00  2020.00  2020.00  \n",
       "month                     9.00     9.00     9.00     9.00  "
      ]
     },
     "execution_count": 28,
     "metadata": {},
     "output_type": "execute_result"
    }
   ],
   "source": [
    "data.describe(percentiles=[.9,.95,.99]).T"
   ]
  },
  {
   "cell_type": "markdown",
   "metadata": {},
   "source": [
    "# Save the data"
   ]
  },
  {
   "cell_type": "code",
   "execution_count": 29,
   "metadata": {},
   "outputs": [],
   "source": [
    "data.to_pickle(f'{dir_path}/full_cleaned_trip_data.pkl')"
   ]
  }
 ],
 "metadata": {
  "kernelspec": {
   "display_name": "free-now",
   "language": "python",
   "name": "free-now"
  },
  "language_info": {
   "codemirror_mode": {
    "name": "ipython",
    "version": 3
   },
   "file_extension": ".py",
   "mimetype": "text/x-python",
   "name": "python",
   "nbconvert_exporter": "python",
   "pygments_lexer": "ipython3",
   "version": "3.7.4"
  }
 },
 "nbformat": 4,
 "nbformat_minor": 2
}
