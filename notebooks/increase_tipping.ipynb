{
 "cells": [
  {
   "cell_type": "markdown",
   "metadata": {},
   "source": [
    "# Task Description  "
   ]
  },
  {
   "cell_type": "markdown",
   "metadata": {},
   "source": [
    "We want to promote tipping to retain our driver base and increase the driver engagement.\n",
    "\n",
    "Could you find the relation between:\n",
    "\n",
    "    the trip duration\n",
    "    trips\n",
    "    distance\n",
    "    location id\n",
    "    vendor\n",
    "    passenger count\n",
    "\n",
    "and tip amount, and make suggestions on rolling out some experimentations?\n"
   ]
  },
  {
   "cell_type": "code",
   "execution_count": 1,
   "metadata": {},
   "outputs": [
    {
     "name": "stderr",
     "output_type": "stream",
     "text": [
      "/home/svujovic/anaconda3/lib/python3.7/site-packages/statsmodels/tools/_testing.py:19: FutureWarning: pandas.util.testing is deprecated. Use the functions in the public API at pandas.testing instead.\n",
      "  import pandas.util.testing as tm\n"
     ]
    }
   ],
   "source": [
    "import pandas as pd \n",
    "from pandas.tseries.offsets import Week\n",
    "import statsmodels.api as sm\n",
    "import numpy as np\n",
    "import seaborn as sns\n",
    "import matplotlib.pyplot as plt"
   ]
  },
  {
   "cell_type": "code",
   "execution_count": 2,
   "metadata": {},
   "outputs": [],
   "source": [
    "df_rides = pd.read_pickle('../data/full_cleaned_trip_data.pkl')"
   ]
  },
  {
   "cell_type": "code",
   "execution_count": 3,
   "metadata": {},
   "outputs": [],
   "source": [
    "df_rides = pd.concat([df_rides, pd.get_dummies(df_rides['tpep_pickup_datetime'].dt.dayofweek)], axis=1)\n",
    "df_rides = pd.concat([df_rides, pd.get_dummies(df_rides['VendorID']).rename(columns={1:'first_vendor',2:'second_vendor'})], axis=1)"
   ]
  },
  {
   "cell_type": "code",
   "execution_count": 4,
   "metadata": {},
   "outputs": [
    {
     "data": {
      "text/plain": [
       "0.3284174709351518"
      ]
     },
     "execution_count": 4,
     "metadata": {},
     "output_type": "execute_result"
    }
   ],
   "source": [
    "# proportion of rides with no tip\n",
    "len(df_rides[df_rides['tip_amount']==0])/len(df_rides)"
   ]
  },
  {
   "cell_type": "code",
   "execution_count": 5,
   "metadata": {},
   "outputs": [
    {
     "data": {
      "image/png": "[encoded data removed]",
      "text/plain": [
       "<Figure size 360x360 with 1 Axes>"
      ]
     },
     "metadata": {
      "needs_background": "light"
     },
     "output_type": "display_data"
    }
   ],
   "source": [
    "sns.displot(df_rides, x='tip_amount', kind='hist', \n",
    "             bins=int(180/5), color = 'red',)\n",
    "plt.yscale('log')"
   ]
  },
  {
   "cell_type": "code",
   "execution_count": 6,
   "metadata": {},
   "outputs": [
    {
     "data": {
      "image/png": "[encoded data removed]",
      "text/plain": [
       "<Figure size 360x360 with 1 Axes>"
      ]
     },
     "metadata": {
      "needs_background": "light"
     },
     "output_type": "display_data"
    }
   ],
   "source": [
    "sns.displot(df_rides[(df_rides['tip_amount'] < 200) & (df_rides['tip_amount'] > 0)], x='tip_amount', kind='hist', \n",
    "             bins=int(180/5), color = 'red',)\n",
    "plt.yscale('log')"
   ]
  },
  {
   "cell_type": "code",
   "execution_count": 7,
   "metadata": {},
   "outputs": [],
   "source": [
    "df_rides['trip_duration'] = df_rides['tpep_dropoff_datetime'] - df_rides['tpep_pickup_datetime']\n",
    "df_rides['trip_duration'] = df_rides['trip_duration'].dt.total_seconds().div(60).astype(int)"
   ]
  },
  {
   "cell_type": "code",
   "execution_count": 8,
   "metadata": {},
   "outputs": [],
   "source": [
    "# there is probably some interaction between trip distance and trip duration\n",
    "df_rides['dist_dur_int'] = df_rides['trip_duration']*df_rides['trip_distance']"
   ]
  },
  {
   "cell_type": "code",
   "execution_count": 9,
   "metadata": {},
   "outputs": [],
   "source": [
    "df_rides['weekday'] = df_rides['tpep_pickup_datetime'].dt.dayofweek"
   ]
  },
  {
   "cell_type": "code",
   "execution_count": 10,
   "metadata": {},
   "outputs": [],
   "source": [
    "popularity = df_rides.groupby('PULocationID').agg(departures=('PULocationID', 'count')).reset_index()"
   ]
  },
  {
   "cell_type": "code",
   "execution_count": 11,
   "metadata": {},
   "outputs": [],
   "source": [
    "# making PU location an ordinal variable\n",
    "popularity['location_popularity_rank'] = popularity['departures'].rank(ascending=False)"
   ]
  },
  {
   "cell_type": "code",
   "execution_count": 12,
   "metadata": {},
   "outputs": [],
   "source": [
    "# popularity.sort_values('location_popularity_rank').head()df_\n",
    "df_rides = df_rides.merge(popularity[['PULocationID', 'location_popularity_rank']])"
   ]
  },
  {
   "cell_type": "code",
   "execution_count": 19,
   "metadata": {},
   "outputs": [
    {
     "data": {
      "text/html": [
       "<table class=\"simpletable\">\n",
       "<caption>OLS Regression Results</caption>\n",
       "<tr>\n",
       "  <th>Dep. Variable:</th>       <td>tip_amount</td>    <th>  R-squared:         </th>  <td>   0.188</td>  \n",
       "</tr>\n",
       "<tr>\n",
       "  <th>Model:</th>                   <td>OLS</td>       <th>  Adj. R-squared:    </th>  <td>   0.188</td>  \n",
       "</tr>\n",
       "<tr>\n",
       "  <th>Method:</th>             <td>Least Squares</td>  <th>  F-statistic:       </th>  <td>1.309e+05</td> \n",
       "</tr>\n",
       "<tr>\n",
       "  <th>Date:</th>             <td>Sun, 14 Nov 2021</td> <th>  Prob (F-statistic):</th>   <td>  0.00</td>   \n",
       "</tr>\n",
       "<tr>\n",
       "  <th>Time:</th>                 <td>20:43:05</td>     <th>  Log-Likelihood:    </th> <td>-1.5188e+07</td>\n",
       "</tr>\n",
       "<tr>\n",
       "  <th>No. Observations:</th>      <td>6767218</td>     <th>  AIC:               </th>  <td>3.038e+07</td> \n",
       "</tr>\n",
       "<tr>\n",
       "  <th>Df Residuals:</th>          <td>6767205</td>     <th>  BIC:               </th>  <td>3.038e+07</td> \n",
       "</tr>\n",
       "<tr>\n",
       "  <th>Df Model:</th>              <td>    12</td>      <th>                     </th>      <td> </td>     \n",
       "</tr>\n",
       "<tr>\n",
       "  <th>Covariance Type:</th>      <td>nonrobust</td>    <th>                     </th>      <td> </td>     \n",
       "</tr>\n",
       "</table>\n",
       "<table class=\"simpletable\">\n",
       "<tr>\n",
       "              <td></td>                <th>coef</th>     <th>std err</th>      <th>t</th>      <th>P>|t|</th>  <th>[0.025</th>    <th>0.975]</th>  \n",
       "</tr>\n",
       "<tr>\n",
       "  <th>const</th>                    <td>    1.1319</td> <td>    0.003</td> <td>  381.036</td> <td> 0.000</td> <td>    1.126</td> <td>    1.138</td>\n",
       "</tr>\n",
       "<tr>\n",
       "  <th>trip_distance</th>            <td>    0.3254</td> <td>    0.000</td> <td> 1222.120</td> <td> 0.000</td> <td>    0.325</td> <td>    0.326</td>\n",
       "</tr>\n",
       "<tr>\n",
       "  <th>trip_duration</th>            <td>    0.0005</td> <td> 1.54e-05</td> <td>   29.630</td> <td> 0.000</td> <td>    0.000</td> <td>    0.000</td>\n",
       "</tr>\n",
       "<tr>\n",
       "  <th>passenger_count</th>          <td>    0.0008</td> <td>    0.001</td> <td>    1.015</td> <td> 0.310</td> <td>   -0.001</td> <td>    0.002</td>\n",
       "</tr>\n",
       "<tr>\n",
       "  <th>dist_dur_int</th>             <td>-6.425e-05</td> <td> 2.11e-06</td> <td>  -30.380</td> <td> 0.000</td> <td>-6.84e-05</td> <td>-6.01e-05</td>\n",
       "</tr>\n",
       "<tr>\n",
       "  <th>second_vendor</th>            <td>    0.0291</td> <td>    0.002</td> <td>   15.387</td> <td> 0.000</td> <td>    0.025</td> <td>    0.033</td>\n",
       "</tr>\n",
       "<tr>\n",
       "  <th>location_popularity_rank</th> <td>   -0.0060</td> <td>  4.8e-05</td> <td> -124.979</td> <td> 0.000</td> <td>   -0.006</td> <td>   -0.006</td>\n",
       "</tr>\n",
       "<tr>\n",
       "  <th>2</th>                        <td>    0.0712</td> <td>    0.003</td> <td>   22.418</td> <td> 0.000</td> <td>    0.065</td> <td>    0.077</td>\n",
       "</tr>\n",
       "<tr>\n",
       "  <th>3</th>                        <td>    0.0827</td> <td>    0.003</td> <td>   25.790</td> <td> 0.000</td> <td>    0.076</td> <td>    0.089</td>\n",
       "</tr>\n",
       "<tr>\n",
       "  <th>4</th>                        <td>    0.0451</td> <td>    0.003</td> <td>   13.958</td> <td> 0.000</td> <td>    0.039</td> <td>    0.051</td>\n",
       "</tr>\n",
       "<tr>\n",
       "  <th>5</th>                        <td>   -0.0806</td> <td>    0.003</td> <td>  -23.282</td> <td> 0.000</td> <td>   -0.087</td> <td>   -0.074</td>\n",
       "</tr>\n",
       "<tr>\n",
       "  <th>6</th>                        <td>   -0.0435</td> <td>    0.003</td> <td>  -12.544</td> <td> 0.000</td> <td>   -0.050</td> <td>   -0.037</td>\n",
       "</tr>\n",
       "<tr>\n",
       "  <th>1</th>                        <td>    0.0577</td> <td>    0.003</td> <td>   18.062</td> <td> 0.000</td> <td>    0.051</td> <td>    0.064</td>\n",
       "</tr>\n",
       "</table>\n",
       "<table class=\"simpletable\">\n",
       "<tr>\n",
       "  <th>Omnibus:</th>       <td>19094599.752</td> <th>  Durbin-Watson:     </th>      <td>   1.934</td>     \n",
       "</tr>\n",
       "<tr>\n",
       "  <th>Prob(Omnibus):</th>    <td> 0.000</td>    <th>  Jarque-Bera (JB):  </th> <td>31061295509383.055</td>\n",
       "</tr>\n",
       "<tr>\n",
       "  <th>Skew:</th>             <td>35.665</td>    <th>  Prob(JB):          </th>      <td>    0.00</td>     \n",
       "</tr>\n",
       "<tr>\n",
       "  <th>Kurtosis:</th>        <td>10498.431</td>  <th>  Cond. No.          </th>      <td>1.61e+04</td>     \n",
       "</tr>\n",
       "</table><br/><br/>Warnings:<br/>[1] Standard Errors assume that the covariance matrix of the errors is correctly specified.<br/>[2] The condition number is large, 1.61e+04. This might indicate that there are<br/>strong multicollinearity or other numerical problems."
      ],
      "text/plain": [
       "<class 'statsmodels.iolib.summary.Summary'>\n",
       "\"\"\"\n",
       "                            OLS Regression Results                            \n",
       "==============================================================================\n",
       "Dep. Variable:             tip_amount   R-squared:                       0.188\n",
       "Model:                            OLS   Adj. R-squared:                  0.188\n",
       "Method:                 Least Squares   F-statistic:                 1.309e+05\n",
       "Date:                Sun, 14 Nov 2021   Prob (F-statistic):               0.00\n",
       "Time:                        20:43:05   Log-Likelihood:            -1.5188e+07\n",
       "No. Observations:             6767218   AIC:                         3.038e+07\n",
       "Df Residuals:                 6767205   BIC:                         3.038e+07\n",
       "Df Model:                          12                                         \n",
       "Covariance Type:            nonrobust                                         \n",
       "============================================================================================\n",
       "                               coef    std err          t      P>|t|      [0.025      0.975]\n",
       "--------------------------------------------------------------------------------------------\n",
       "const                        1.1319      0.003    381.036      0.000       1.126       1.138\n",
       "trip_distance                0.3254      0.000   1222.120      0.000       0.325       0.326\n",
       "trip_duration                0.0005   1.54e-05     29.630      0.000       0.000       0.000\n",
       "passenger_count              0.0008      0.001      1.015      0.310      -0.001       0.002\n",
       "dist_dur_int             -6.425e-05   2.11e-06    -30.380      0.000   -6.84e-05   -6.01e-05\n",
       "second_vendor                0.0291      0.002     15.387      0.000       0.025       0.033\n",
       "location_popularity_rank    -0.0060    4.8e-05   -124.979      0.000      -0.006      -0.006\n",
       "2                            0.0712      0.003     22.418      0.000       0.065       0.077\n",
       "3                            0.0827      0.003     25.790      0.000       0.076       0.089\n",
       "4                            0.0451      0.003     13.958      0.000       0.039       0.051\n",
       "5                           -0.0806      0.003    -23.282      0.000      -0.087      -0.074\n",
       "6                           -0.0435      0.003    -12.544      0.000      -0.050      -0.037\n",
       "1                            0.0577      0.003     18.062      0.000       0.051       0.064\n",
       "==============================================================================\n",
       "Omnibus:                 19094599.752   Durbin-Watson:                   1.934\n",
       "Prob(Omnibus):                  0.000   Jarque-Bera (JB):   31061295509383.055\n",
       "Skew:                          35.665   Prob(JB):                         0.00\n",
       "Kurtosis:                   10498.431   Cond. No.                     1.61e+04\n",
       "==============================================================================\n",
       "\n",
       "Warnings:\n",
       "[1] Standard Errors assume that the covariance matrix of the errors is correctly specified.\n",
       "[2] The condition number is large, 1.61e+04. This might indicate that there are\n",
       "strong multicollinearity or other numerical problems.\n",
       "\"\"\""
      ]
     },
     "execution_count": 19,
     "metadata": {},
     "output_type": "execute_result"
    }
   ],
   "source": [
    "\n",
    "position_dummies = df_rides['weekday'].unique()\n",
    "regressors =['trip_distance','trip_duration','passenger_count','dist_dur_int','second_vendor','location_popularity_rank']\n",
    "regressors.extend(position_dummies)\n",
    "regressors.remove(0)\n",
    "\n",
    "Y = df_rides[~df_rides['passenger_count'].isna()]['tip_amount']\n",
    "X = df_rides[~df_rides['passenger_count'].isna()][regressors]\n",
    "X = sm.add_constant(X)\n",
    "\n",
    "model = sm.OLS(Y,X)\n",
    "results = model.fit()\n",
    "results.summary()"
   ]
  },
  {
   "cell_type": "markdown",
   "metadata": {},
   "source": [
    "# Possibilities"
   ]
  },
  {
   "cell_type": "markdown",
   "metadata": {},
   "source": [
    "`Trip distance` as expected plays a role. With an increase of distance the tips are also increased. Potentialy we could potentialy match drivers with a lack of recorded tips to fares that would be long. "
   ]
  },
  {
   "cell_type": "markdown",
   "metadata": {},
   "source": [
    "There is aninteraction effect between `trip distance` and `duration`. Seems like finding the shortest path is valued by the customers. I would suggest that we offer some software solution to the cab drivers or maybe send them tips on how to navigate better with the promisse of a potentially better tip. "
   ]
  },
  {
   "cell_type": "markdown",
   "metadata": {},
   "source": [
    "The `second vendor` seems to be more suitable for higher tips. Maybe we could run (or simulate) a controlled expeiment to confirm that. If it seems to be the case, we would probably need to come op with some kind of intervention.  "
   ]
  },
  {
   "cell_type": "markdown",
   "metadata": {},
   "source": [
    "I am not confident in the `location popularity`. Here is why: The most popular location is on position 1 and the least popular one is on position 262. The distribution of rides follows a 'pareto' distribution. The increase from position 5 to 6 and 250 and 251 are not the same."
   ]
  },
  {
   "cell_type": "markdown",
   "metadata": {},
   "source": [
    "`Weekday` seems to play a role. Maybe an automated shift planning system could be developed to distribute the drivers hours in a favourable way in order to get more tips."
   ]
  }
 ],
 "metadata": {
  "kernelspec": {
   "display_name": "Python 3",
   "language": "python",
   "name": "python3"
  },
  "language_info": {
   "codemirror_mode": {
    "name": "ipython",
    "version": 3
   },
   "file_extension": ".py",
   "mimetype": "text/x-python",
   "name": "python",
   "nbconvert_exporter": "python",
   "pygments_lexer": "ipython3",
   "version": "3.7.4"
  }
 },
 "nbformat": 4,
 "nbformat_minor": 5
}
